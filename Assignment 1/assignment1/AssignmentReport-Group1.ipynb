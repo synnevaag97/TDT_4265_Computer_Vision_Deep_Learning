{
 "cells": [
  {
   "cell_type": "markdown",
   "metadata": {},
   "source": [
    "# Assignment 1 Report"
   ]
  },
  {
   "cell_type": "markdown",
   "metadata": {},
   "source": [
    "This is an outline for your report to ease the amount of work required to create your report. Jupyter notebook supports markdown, and I recommend you to check out this [cheat sheet](https://github.com/adam-p/markdown-here/wiki/Markdown-Cheatsheet). If you are not familiar with markdown.\n",
    "\n",
    "Before delivery, **remember to convert this file to PDF**. You can do it in two ways:\n",
    "1. Print the webpage (ctrl+P or cmd+P)\n",
    "2. Export with latex. This is somewhat more difficult, but you'll get somehwat of a \"prettier\" PDF. Go to File -> Download as -> PDF via LaTeX. You might have to install nbconvert and pandoc through conda; `conda install nbconvert pandoc`."
   ]
  },
  {
   "cell_type": "markdown",
   "metadata": {},
   "source": [
    "# Task 1"
   ]
  },
  {
   "cell_type": "markdown",
   "metadata": {},
   "source": [
    "## task 1a)\n",
    "\n",
    "$C(\\omega) = \\frac{1}{N} \\sum_{n=1}^{N}C^{N}(\\omega) = \\frac{1}{N} \\sum_{n=1}^{N}[-(y^nln(\\hat{y}^n) + (1-y^n)ln(1-\\hat{y}^n))] $\n",
    "\n",
    "The derivative of C is easy to compute when we have found the derivative of $C^n$.\n",
    "\n",
    "$\\frac{\\partial C^{n}}{\\partial \\omega_i} = \\frac{\\partial C^n(\\omega)}{\\partial \\hat{y}^n}\\frac{\\partial \\hat{y}^n}{\\partial \\omega_i} = [-y^n*\\frac{1}{\\hat{y}^n} \\frac{\\partial \\hat{y}^n}{\\partial \\omega_i} - (1-y^n)\\frac{1}{1-\\hat{y}^n}(-1) \\frac{\\partial \\hat{y}^n}{\\partial \\omega_i}]$\n",
    "\n",
    "We have that $\\hat{y}^n = f(x^n_i)$\n",
    "\n",
    "$\\frac{\\partial C^{n}}{\\partial \\omega_i} = [-\\frac{y^n}{\\hat{y}^n} \\frac{\\partial f(x^n_i)}{\\partial \\omega_i} + \\frac{1-y^n}{1-\\hat{y}^n}\\frac{\\partial f(x^n_i)}{\\partial \\omega_i}] $\n",
    "\n",
    "The derivative of f with regards to $\\omega$ is: \n",
    "$\\frac{\\partial f^{x^n_i}}{\\partial \\omega_i} = x^n_if(x^n_i)(1-f(x^n_i))$\n",
    "\n",
    "\n",
    "$\\frac{\\partial C^{n}}{\\partial \\omega_i} = [-\\frac{y^n}{\\hat{y}^n} x^n_if(x^n_i)(1-f(x^n_i)) + \\frac{1-y^n}{1-\\hat{y}^n}x^n_if(x^n_i)(1-f(x^n_i))] $\n",
    "\n",
    "$\\frac{\\partial C^{n}}{\\partial \\omega_i} = [-y^nx^n_i(1-\\hat{y}^n) + (1-y^n)x^n_i\\hat{y}^n] $\n",
    "\n",
    "This yields the resulting derivative: \n",
    "\n",
    "$\\frac{\\partial C^{n}}{\\partial \\omega_i} = (\\hat{y}^n-y^n)x^n_i $\n",
    "\n",
    "\n"
   ]
  },
  {
   "cell_type": "markdown",
   "metadata": {},
   "source": []
  },
  {
   "cell_type": "markdown",
   "metadata": {},
   "source": [
    "## task 1b)\n",
    "\n",
    "The cross entropy function: \n",
    "\n",
    "$C(\\omega_{kj}) = \\frac{1}{N} \\sum_{n=1}^{N}C^{N}(\\omega_{kj}) = -\\frac{1}{N} \\sum_{n=1}^{N}\\sum_{k=1}^{K}[y^n_kln(\\hat{y}^n_k)] $\n",
    "\n",
    "We now have a multiclass detector such that the outputs of our neural network and the corresponding targets are also defined by the number of output nodes, K. \n",
    "\n",
    "Again we find the derivative of C by finding the derivative of $C^n$. \n",
    "\n",
    "We have that $\\hat{y}^n_k = \\frac{e^{z_k}}{\\sum_{k'=1}^{K'}e^{z_{k'}}}$\n",
    "\n",
    "\n",
    "$ C^n(\\omega_{kj}) = -\\sum_{k=1}^{K}[y^n_kln(\\frac{e^{z_k}}{\\sum_{k'=1}^{K'}e^{z_{k'}}})] $\n",
    "\n",
    "$\\frac{\\partial C^{n}}{\\partial \\omega_{kj}} = \\frac{\\partial C^n(\\omega_{kj})}{\\partial z_k}\\frac{\\partial z_k}{\\partial \\omega_{kj}}$\n",
    "\n",
    "The derivative of $z_k$ with respect to $\\omega_{kj}$ is:\n",
    "\n",
    "$\\frac{\\partial z_k}{\\partial \\omega_{kj}} = x $\n",
    "\n",
    "\n",
    "For the derivative of $C^n$ with respect to $z_k$ we have to consider two cases. When k=k' and when k!=k'. First we use the core rule:\n",
    "\n",
    "$\\frac{\\partial C^n(\\omega_{kj})}{\\partial z_k} = - \\sum_{k=1}^{K}[y^n_k \\frac{u}*u')$. \n",
    "\n",
    "where $ u = \\frac{e^{z_k}}{\\sum_{k'=1}^{K'}e^{z_{k'}}}$ and $ u' = \\frac{(e^{z_k})'\\sum_{k'=1}^{K'}e^{z_{k'}} - e^{z_k}(\\sum_{k'=1}^{K'}e^{z_{k'}})'}{(\\sum_{k'=1}^{K'}e^{z_{k'}})^2}$\n",
    "\n",
    "Case 1: k=k'\n",
    "\n",
    "$\\frac{\\partial C^n(\\omega_{kj})}{\\partial z_k} = y^n_{k'}\\frac{\\sum_{k'=1}^{K'}e^{z_{k'}}}{e^{z_k}}[\\frac{e^{z_k}*\\sum_{k'=1}^{K'}e^{z_{k'}} - e^{z_k}(\\sum_{k'=1}^{K'}e^{z_{k'}})'}{(e^{z_{k'}})^2}]$\n",
    "\n",
    "$\\frac{\\partial C^n(\\omega_{kj})}{\\partial z_k} = y^n_{k'} \\frac{1}{\\hat{y}^n_k}[\\hat{y}_k - \\hat{y}_k\\hat{y}_{k'}] = y^n_{k'}(1-\\hat{y}_{k'}) $\n",
    "\n",
    "Case 2: k!=k'\n",
    "\n",
    "$\\frac{\\partial C^n(\\omega_{kj})}{\\partial z_k} = y^n_{k'}\\frac{\\sum_{k'=1}^{K'}e^{z_{k'}}}{e^{z_k}}[\\frac{0*\\sum_{k'=1}^{K'}e^{z_{k'}} - e^{z_k}(\\sum_{k'=1}^{K'}e^{z_{k}})'}{(e^{z_{k'}})^2}]$\n",
    "\n",
    "$\\frac{\\partial C^n(\\omega_{kj})}{\\partial z_k} = y^n_{k} \\frac{1}{\\hat{y}^n_k}[- \\hat{y}_k\\hat{y}_{k'}] = -y^n_{k}\\hat{y}_{k'} $\n",
    "\n",
    "\n",
    "This gives the final experssion: \n",
    "\n",
    "$\\frac{\\partial C^n(\\omega_{kj})}{\\partial z_k} = x[y^n_{k'}(1-\\hat{y}_{k'}) + (-y^n_{k}(\\hat{y}_{k'}))] = x[y^n_{k'}-y^n_{k'}\\hat{y}_{k'} -y^n_{k}\\hat{y}_{k'}] $\n"
   ]
  },
  {
   "cell_type": "markdown",
   "metadata": {},
   "source": [
    "# Task 2"
   ]
  },
  {
   "cell_type": "markdown",
   "metadata": {},
   "source": [
    "## Task 2b)\n",
    "![](task2b_binary_train_loss.png)"
   ]
  },
  {
   "cell_type": "markdown",
   "metadata": {},
   "source": [
    "## Task 2c)\n",
    "![](task2b_binary_train_accuracy.png)"
   ]
  },
  {
   "cell_type": "markdown",
   "metadata": {},
   "source": [
    "## Task 2d)\n",
    "FILL IN ANSWER"
   ]
  },
  {
   "cell_type": "markdown",
   "metadata": {},
   "source": [
    "## Task 2e)\n",
    "FILL IN ANSWER\n",
    "![](task2e_train_accuracy_shuffle_difference.png)"
   ]
  },
  {
   "cell_type": "markdown",
   "metadata": {},
   "source": [
    "# Task 3"
   ]
  },
  {
   "cell_type": "markdown",
   "metadata": {},
   "source": [
    "## Task 3b)\n",
    "![](task3b_softmax_train_loss.png)"
   ]
  },
  {
   "cell_type": "markdown",
   "metadata": {},
   "source": [
    "## Task 3c)\n",
    "![](task3b_softmax_train_accuracy.png)"
   ]
  },
  {
   "cell_type": "markdown",
   "metadata": {},
   "source": [
    "## Task 3d)\n",
    "FILL IN ANSWER"
   ]
  },
  {
   "cell_type": "markdown",
   "metadata": {},
   "source": [
    "# Task 4"
   ]
  },
  {
   "cell_type": "markdown",
   "metadata": {},
   "source": [
    "## Task 4a)\n",
    "\n",
    "Fill in image of hand-written notes which are easy to read, or latex equations here"
   ]
  },
  {
   "cell_type": "markdown",
   "metadata": {},
   "source": [
    "## Task 4b)\n",
    "FILL IN ANSWER\n",
    "\n",
    "![](task4b_softmax_weight.png)"
   ]
  },
  {
   "cell_type": "markdown",
   "metadata": {},
   "source": [
    "## Task 4c)\n",
    "FILL IN ANSWER\n",
    "\n",
    "![](task4c_l2_reg_accuracy.png)"
   ]
  },
  {
   "cell_type": "markdown",
   "metadata": {},
   "source": [
    "## Task 4d)\n",
    "![](task4d_l2_reg_norms.png)"
   ]
  },
  {
   "cell_type": "markdown",
   "metadata": {},
   "source": [
    "## Task 4e)\n",
    "FILL IN ANSWER"
   ]
  }
 ],
 "metadata": {
  "kernelspec": {
   "display_name": "Python 3.8.1 64-bit ('py38': conda)",
   "language": "python",
   "name": "python38164bitpy38condac1f68ca5407a4349b0d7e37676f2fbb3"
  },
  "language_info": {
   "codemirror_mode": {
    "name": "ipython",
    "version": 3
   },
   "file_extension": ".py",
   "mimetype": "text/x-python",
   "name": "python",
   "nbconvert_exporter": "python",
   "pygments_lexer": "ipython3",
   "version": "3.8.1"
  }
 },
 "nbformat": 4,
 "nbformat_minor": 4
}
